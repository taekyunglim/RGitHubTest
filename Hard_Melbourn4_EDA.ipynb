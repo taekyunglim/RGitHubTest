{
  "nbformat": 4,
  "nbformat_minor": 0,
  "metadata": {
    "colab": {
      "name": "Hard_Melbourn4_EDA.ipynb",
      "provenance": [],
      "collapsed_sections": [],
      "authorship_tag": "ABX9TyNzeqLP1G0rrL5sVM43woQF",
      "include_colab_link": true
    },
    "kernelspec": {
      "name": "python3",
      "display_name": "Python 3"
    },
    "language_info": {
      "name": "python"
    }
  },
  "cells": [
    {
      "cell_type": "markdown",
      "metadata": {
        "id": "view-in-github",
        "colab_type": "text"
      },
      "source": [
        "<a href=\"https://colab.research.google.com/github/taekyunglim/RGitHubTest/blob/master/Hard_Melbourn4_EDA.ipynb\" target=\"_parent\"><img src=\"https://colab.research.google.com/assets/colab-badge.svg\" alt=\"Open In Colab\"/></a>"
      ]
    },
    {
      "cell_type": "markdown",
      "metadata": {
        "id": "MtpZmY2R6a1E"
      },
      "source": [
        "# Melbourn Data EDA"
      ]
    },
    {
      "cell_type": "markdown",
      "metadata": {
        "id": "z3sF4X4n6hdq"
      },
      "source": [
        "## 1. Package Load"
      ]
    },
    {
      "cell_type": "code",
      "metadata": {
        "id": "1aGjdsdO6SL2"
      },
      "source": [
        "import numpy as np\n",
        "import pandas as pd\n",
        "import seaborn as sns\n",
        "import matplotlib.pyplot as plt"
      ],
      "execution_count": null,
      "outputs": []
    },
    {
      "cell_type": "code",
      "metadata": {
        "colab": {
          "base_uri": "https://localhost:8080/",
          "height": 411
        },
        "id": "9V7Fpv0J6p5f",
        "outputId": "f957606b-8039-48f1-8b99-abddfa1c0cbe"
      },
      "source": [
        "df = pd.read_csv('Hard_Melbourne4.csv')\n",
        "df.head()"
      ],
      "execution_count": null,
      "outputs": [
        {
          "output_type": "execute_result",
          "data": {
            "text/html": [
              "<div>\n",
              "<style scoped>\n",
              "    .dataframe tbody tr th:only-of-type {\n",
              "        vertical-align: middle;\n",
              "    }\n",
              "\n",
              "    .dataframe tbody tr th {\n",
              "        vertical-align: top;\n",
              "    }\n",
              "\n",
              "    .dataframe thead th {\n",
              "        text-align: right;\n",
              "    }\n",
              "</style>\n",
              "<table border=\"1\" class=\"dataframe\">\n",
              "  <thead>\n",
              "    <tr style=\"text-align: right;\">\n",
              "      <th></th>\n",
              "      <th>Unnamed: 0</th>\n",
              "      <th>Suburb</th>\n",
              "      <th>Address</th>\n",
              "      <th>Rooms</th>\n",
              "      <th>Type</th>\n",
              "      <th>Price</th>\n",
              "      <th>Method</th>\n",
              "      <th>SellerG</th>\n",
              "      <th>Date</th>\n",
              "      <th>Distance</th>\n",
              "      <th>Postcode</th>\n",
              "      <th>Bedroom2</th>\n",
              "      <th>Bathroom</th>\n",
              "      <th>Car</th>\n",
              "      <th>Landsize</th>\n",
              "      <th>BuildingArea</th>\n",
              "      <th>YearBuilt</th>\n",
              "      <th>CouncilArea</th>\n",
              "      <th>Lattitude</th>\n",
              "      <th>Longtitude</th>\n",
              "      <th>Regionname</th>\n",
              "      <th>Propertycount</th>\n",
              "      <th>Description</th>\n",
              "    </tr>\n",
              "  </thead>\n",
              "  <tbody>\n",
              "    <tr>\n",
              "      <th>0</th>\n",
              "      <td>0</td>\n",
              "      <td>Abbotsford</td>\n",
              "      <td>68 Studley St</td>\n",
              "      <td>2</td>\n",
              "      <td>h</td>\n",
              "      <td>NaN</td>\n",
              "      <td>SS</td>\n",
              "      <td>Jellis</td>\n",
              "      <td>03-09-2016</td>\n",
              "      <td>2.5</td>\n",
              "      <td>3067.0</td>\n",
              "      <td>2.0</td>\n",
              "      <td>1.0</td>\n",
              "      <td>1.0</td>\n",
              "      <td>126.0</td>\n",
              "      <td>NaN</td>\n",
              "      <td>NaN</td>\n",
              "      <td>Yarra</td>\n",
              "      <td>-37.8014</td>\n",
              "      <td>144.9958</td>\n",
              "      <td>Northern Metropolitan</td>\n",
              "      <td>4019.0</td>\n",
              "      <td>NaN</td>\n",
              "    </tr>\n",
              "    <tr>\n",
              "      <th>1</th>\n",
              "      <td>1</td>\n",
              "      <td>Abbotsford</td>\n",
              "      <td>85 Turner St</td>\n",
              "      <td>2</td>\n",
              "      <td>h</td>\n",
              "      <td>1480000.0</td>\n",
              "      <td>S</td>\n",
              "      <td>Biggin</td>\n",
              "      <td>03-12-2016</td>\n",
              "      <td>2.5</td>\n",
              "      <td>3067.0</td>\n",
              "      <td>2.0</td>\n",
              "      <td>1.0</td>\n",
              "      <td>1.0</td>\n",
              "      <td>202.0</td>\n",
              "      <td>NaN</td>\n",
              "      <td>NaN</td>\n",
              "      <td>Yarra</td>\n",
              "      <td>-37.7996</td>\n",
              "      <td>144.9984</td>\n",
              "      <td>Northern Metropolitan</td>\n",
              "      <td>4019.0</td>\n",
              "      <td>NaN</td>\n",
              "    </tr>\n",
              "    <tr>\n",
              "      <th>2</th>\n",
              "      <td>2</td>\n",
              "      <td>Abbotsford</td>\n",
              "      <td>25 Bloomburg St</td>\n",
              "      <td>2</td>\n",
              "      <td>h</td>\n",
              "      <td>1035000.0</td>\n",
              "      <td>S</td>\n",
              "      <td>Biggin</td>\n",
              "      <td>04-02-2016</td>\n",
              "      <td>2.5</td>\n",
              "      <td>3067.0</td>\n",
              "      <td>2.0</td>\n",
              "      <td>1.0</td>\n",
              "      <td>0.0</td>\n",
              "      <td>156.0</td>\n",
              "      <td>79.0</td>\n",
              "      <td>1900.0</td>\n",
              "      <td>Yarra</td>\n",
              "      <td>-37.8079</td>\n",
              "      <td>144.9934</td>\n",
              "      <td>Northern Metropolitan</td>\n",
              "      <td>4019.0</td>\n",
              "      <td>NaN</td>\n",
              "    </tr>\n",
              "    <tr>\n",
              "      <th>3</th>\n",
              "      <td>3</td>\n",
              "      <td>Abbotsford</td>\n",
              "      <td>18/659 Victoria St</td>\n",
              "      <td>3</td>\n",
              "      <td>u</td>\n",
              "      <td>NaN</td>\n",
              "      <td>VB</td>\n",
              "      <td>Rounds</td>\n",
              "      <td>04-02-2016</td>\n",
              "      <td>2.5</td>\n",
              "      <td>3067.0</td>\n",
              "      <td>3.0</td>\n",
              "      <td>2.0</td>\n",
              "      <td>1.0</td>\n",
              "      <td>0.0</td>\n",
              "      <td>NaN</td>\n",
              "      <td>NaN</td>\n",
              "      <td>Yarra</td>\n",
              "      <td>-37.8114</td>\n",
              "      <td>145.0116</td>\n",
              "      <td>Northern Metropolitan</td>\n",
              "      <td>4019.0</td>\n",
              "      <td>NaN</td>\n",
              "    </tr>\n",
              "    <tr>\n",
              "      <th>4</th>\n",
              "      <td>4</td>\n",
              "      <td>Abbotsford</td>\n",
              "      <td>5 Charles St</td>\n",
              "      <td>3</td>\n",
              "      <td>h</td>\n",
              "      <td>1465000.0</td>\n",
              "      <td>SP</td>\n",
              "      <td>Biggin</td>\n",
              "      <td>04-03-2017</td>\n",
              "      <td>2.5</td>\n",
              "      <td>3067.0</td>\n",
              "      <td>3.0</td>\n",
              "      <td>2.0</td>\n",
              "      <td>0.0</td>\n",
              "      <td>134.0</td>\n",
              "      <td>150.0</td>\n",
              "      <td>1900.0</td>\n",
              "      <td>Yarra</td>\n",
              "      <td>-37.8093</td>\n",
              "      <td>144.9944</td>\n",
              "      <td>Northern Metropolitan</td>\n",
              "      <td>4019.0</td>\n",
              "      <td>NaN</td>\n",
              "    </tr>\n",
              "  </tbody>\n",
              "</table>\n",
              "</div>"
            ],
            "text/plain": [
              "   Unnamed: 0      Suburb  ... Propertycount  Description\n",
              "0           0  Abbotsford  ...        4019.0          NaN\n",
              "1           1  Abbotsford  ...        4019.0          NaN\n",
              "2           2  Abbotsford  ...        4019.0          NaN\n",
              "3           3  Abbotsford  ...        4019.0          NaN\n",
              "4           4  Abbotsford  ...        4019.0          NaN\n",
              "\n",
              "[5 rows x 23 columns]"
            ]
          },
          "metadata": {
            "tags": []
          },
          "execution_count": 2
        }
      ]
    },
    {
      "cell_type": "code",
      "metadata": {
        "colab": {
          "base_uri": "https://localhost:8080/",
          "height": 411
        },
        "id": "WHsHVu_s6tit",
        "outputId": "5768c906-1d21-4e71-85eb-0c6ed206a4da"
      },
      "source": [
        "df.tail()"
      ],
      "execution_count": null,
      "outputs": [
        {
          "output_type": "execute_result",
          "data": {
            "text/html": [
              "<div>\n",
              "<style scoped>\n",
              "    .dataframe tbody tr th:only-of-type {\n",
              "        vertical-align: middle;\n",
              "    }\n",
              "\n",
              "    .dataframe tbody tr th {\n",
              "        vertical-align: top;\n",
              "    }\n",
              "\n",
              "    .dataframe thead th {\n",
              "        text-align: right;\n",
              "    }\n",
              "</style>\n",
              "<table border=\"1\" class=\"dataframe\">\n",
              "  <thead>\n",
              "    <tr style=\"text-align: right;\">\n",
              "      <th></th>\n",
              "      <th>Unnamed: 0</th>\n",
              "      <th>Suburb</th>\n",
              "      <th>Address</th>\n",
              "      <th>Rooms</th>\n",
              "      <th>Type</th>\n",
              "      <th>Price</th>\n",
              "      <th>Method</th>\n",
              "      <th>SellerG</th>\n",
              "      <th>Date</th>\n",
              "      <th>Distance</th>\n",
              "      <th>Postcode</th>\n",
              "      <th>Bedroom2</th>\n",
              "      <th>Bathroom</th>\n",
              "      <th>Car</th>\n",
              "      <th>Landsize</th>\n",
              "      <th>BuildingArea</th>\n",
              "      <th>YearBuilt</th>\n",
              "      <th>CouncilArea</th>\n",
              "      <th>Lattitude</th>\n",
              "      <th>Longtitude</th>\n",
              "      <th>Regionname</th>\n",
              "      <th>Propertycount</th>\n",
              "      <th>Description</th>\n",
              "    </tr>\n",
              "  </thead>\n",
              "  <tbody>\n",
              "    <tr>\n",
              "      <th>23542</th>\n",
              "      <td>23542</td>\n",
              "      <td>Wyndham Vale</td>\n",
              "      <td>25 Clitheroe Dr</td>\n",
              "      <td>3</td>\n",
              "      <td>u</td>\n",
              "      <td>NaN</td>\n",
              "      <td>PN</td>\n",
              "      <td>Harcourts</td>\n",
              "      <td>26-08-2017</td>\n",
              "      <td>27.2</td>\n",
              "      <td>3024.0</td>\n",
              "      <td>3.0</td>\n",
              "      <td>1.0</td>\n",
              "      <td>0.0</td>\n",
              "      <td>552.0</td>\n",
              "      <td>119.0</td>\n",
              "      <td>1990.0</td>\n",
              "      <td>NaN</td>\n",
              "      <td>-37.90032</td>\n",
              "      <td>144.61839</td>\n",
              "      <td>Western Metropolitan</td>\n",
              "      <td>5262.0</td>\n",
              "      <td>NaN</td>\n",
              "    </tr>\n",
              "    <tr>\n",
              "      <th>23543</th>\n",
              "      <td>23543</td>\n",
              "      <td>Wyndham Vale</td>\n",
              "      <td>19 Dalrymple Bvd</td>\n",
              "      <td>4</td>\n",
              "      <td>h</td>\n",
              "      <td>NaN</td>\n",
              "      <td>S</td>\n",
              "      <td>hockingstuart</td>\n",
              "      <td>26-08-2017</td>\n",
              "      <td>27.2</td>\n",
              "      <td>3024.0</td>\n",
              "      <td>NaN</td>\n",
              "      <td>NaN</td>\n",
              "      <td>NaN</td>\n",
              "      <td>NaN</td>\n",
              "      <td>NaN</td>\n",
              "      <td>NaN</td>\n",
              "      <td>NaN</td>\n",
              "      <td>-37.87882</td>\n",
              "      <td>144.60184</td>\n",
              "      <td>Western Metropolitan</td>\n",
              "      <td>5262.0</td>\n",
              "      <td>NaN</td>\n",
              "    </tr>\n",
              "    <tr>\n",
              "      <th>23544</th>\n",
              "      <td>23544</td>\n",
              "      <td>Yallambie</td>\n",
              "      <td>17 Amaroo Wy</td>\n",
              "      <td>4</td>\n",
              "      <td>h</td>\n",
              "      <td>1100000.0</td>\n",
              "      <td>S</td>\n",
              "      <td>Buckingham</td>\n",
              "      <td>26-08-2017</td>\n",
              "      <td>12.7</td>\n",
              "      <td>3085.0</td>\n",
              "      <td>4.0</td>\n",
              "      <td>3.0</td>\n",
              "      <td>2.0</td>\n",
              "      <td>NaN</td>\n",
              "      <td>NaN</td>\n",
              "      <td>NaN</td>\n",
              "      <td>NaN</td>\n",
              "      <td>-37.72006</td>\n",
              "      <td>145.10547</td>\n",
              "      <td>Northern Metropolitan</td>\n",
              "      <td>1369.0</td>\n",
              "      <td>NaN</td>\n",
              "    </tr>\n",
              "    <tr>\n",
              "      <th>23545</th>\n",
              "      <td>23545</td>\n",
              "      <td>Yarraville</td>\n",
              "      <td>6 Agnes St</td>\n",
              "      <td>4</td>\n",
              "      <td>h</td>\n",
              "      <td>1285000.0</td>\n",
              "      <td>SP</td>\n",
              "      <td>Village</td>\n",
              "      <td>26-08-2017</td>\n",
              "      <td>6.3</td>\n",
              "      <td>3013.0</td>\n",
              "      <td>4.0</td>\n",
              "      <td>1.0</td>\n",
              "      <td>1.0</td>\n",
              "      <td>362.0</td>\n",
              "      <td>112.0</td>\n",
              "      <td>1920.0</td>\n",
              "      <td>NaN</td>\n",
              "      <td>-37.81188</td>\n",
              "      <td>144.88449</td>\n",
              "      <td>Western Metropolitan</td>\n",
              "      <td>6543.0</td>\n",
              "      <td>NaN</td>\n",
              "    </tr>\n",
              "    <tr>\n",
              "      <th>23546</th>\n",
              "      <td>23546</td>\n",
              "      <td>Yarraville</td>\n",
              "      <td>33 Freeman St</td>\n",
              "      <td>4</td>\n",
              "      <td>h</td>\n",
              "      <td>1050000.0</td>\n",
              "      <td>VB</td>\n",
              "      <td>Village</td>\n",
              "      <td>26-08-2017</td>\n",
              "      <td>6.3</td>\n",
              "      <td>3013.0</td>\n",
              "      <td>4.0</td>\n",
              "      <td>2.0</td>\n",
              "      <td>2.0</td>\n",
              "      <td>NaN</td>\n",
              "      <td>139.0</td>\n",
              "      <td>1950.0</td>\n",
              "      <td>NaN</td>\n",
              "      <td>-37.81829</td>\n",
              "      <td>144.87404</td>\n",
              "      <td>Western Metropolitan</td>\n",
              "      <td>6543.0</td>\n",
              "      <td>NaN</td>\n",
              "    </tr>\n",
              "  </tbody>\n",
              "</table>\n",
              "</div>"
            ],
            "text/plain": [
              "       Unnamed: 0        Suburb  ... Propertycount  Description\n",
              "23542       23542  Wyndham Vale  ...        5262.0          NaN\n",
              "23543       23543  Wyndham Vale  ...        5262.0          NaN\n",
              "23544       23544     Yallambie  ...        1369.0          NaN\n",
              "23545       23545    Yarraville  ...        6543.0          NaN\n",
              "23546       23546    Yarraville  ...        6543.0          NaN\n",
              "\n",
              "[5 rows x 23 columns]"
            ]
          },
          "metadata": {
            "tags": []
          },
          "execution_count": 3
        }
      ]
    },
    {
      "cell_type": "code",
      "metadata": {
        "colab": {
          "base_uri": "https://localhost:8080/"
        },
        "id": "-IBC8kvx6xqH",
        "outputId": "358c49be-bcc9-4311-c866-d5f62c627eed"
      },
      "source": [
        "df.shape"
      ],
      "execution_count": null,
      "outputs": [
        {
          "output_type": "execute_result",
          "data": {
            "text/plain": [
              "(23547, 23)"
            ]
          },
          "metadata": {
            "tags": []
          },
          "execution_count": 4
        }
      ]
    },
    {
      "cell_type": "code",
      "metadata": {
        "colab": {
          "base_uri": "https://localhost:8080/"
        },
        "id": "PJtOlBKs6zpS",
        "outputId": "d6058b9d-db98-4077-bf72-6bbf58de9ec7"
      },
      "source": [
        "df.columns"
      ],
      "execution_count": null,
      "outputs": [
        {
          "output_type": "execute_result",
          "data": {
            "text/plain": [
              "Index(['Unnamed: 0', 'Suburb', 'Address', 'Rooms', 'Type', 'Price', 'Method',\n",
              "       'SellerG', 'Date', 'Distance', 'Postcode', 'Bedroom2', 'Bathroom',\n",
              "       'Car', 'Landsize', 'BuildingArea', 'YearBuilt', 'CouncilArea',\n",
              "       'Lattitude', 'Longtitude', 'Regionname', 'Propertycount',\n",
              "       'Description'],\n",
              "      dtype='object')"
            ]
          },
          "metadata": {
            "tags": []
          },
          "execution_count": 5
        }
      ]
    },
    {
      "cell_type": "code",
      "metadata": {
        "colab": {
          "base_uri": "https://localhost:8080/"
        },
        "id": "rvzt_BQD60jo",
        "outputId": "eacd990f-962a-4f4c-9d3a-166756864d42"
      },
      "source": [
        "df.info()\n",
        "## Unnamed: 0 삭제"
      ],
      "execution_count": null,
      "outputs": [
        {
          "output_type": "stream",
          "text": [
            "<class 'pandas.core.frame.DataFrame'>\n",
            "RangeIndex: 23547 entries, 0 to 23546\n",
            "Data columns (total 23 columns):\n",
            " #   Column         Non-Null Count  Dtype  \n",
            "---  ------         --------------  -----  \n",
            " 0   Unnamed: 0     23547 non-null  int64  \n",
            " 1   Suburb         23547 non-null  object \n",
            " 2   Address        23547 non-null  object \n",
            " 3   Rooms          23547 non-null  int64  \n",
            " 4   Type           23547 non-null  object \n",
            " 5   Price          18396 non-null  float64\n",
            " 6   Method         23547 non-null  object \n",
            " 7   SellerG        23547 non-null  object \n",
            " 8   Date           23547 non-null  object \n",
            " 9   Distance       23546 non-null  float64\n",
            " 10  Postcode       23546 non-null  float64\n",
            " 11  Bedroom2       19066 non-null  float64\n",
            " 12  Bathroom       19063 non-null  float64\n",
            " 13  Car            18921 non-null  float64\n",
            " 14  Landsize       17410 non-null  float64\n",
            " 15  BuildingArea   10018 non-null  float64\n",
            " 16  YearBuilt      11540 non-null  float64\n",
            " 17  CouncilArea    15656 non-null  object \n",
            " 18  Lattitude      19243 non-null  float64\n",
            " 19  Longtitude     19243 non-null  float64\n",
            " 20  Regionname     23546 non-null  object \n",
            " 21  Propertycount  23546 non-null  float64\n",
            " 22  Description    0 non-null      float64\n",
            "dtypes: float64(13), int64(2), object(8)\n",
            "memory usage: 4.1+ MB\n"
          ],
          "name": "stdout"
        }
      ]
    },
    {
      "cell_type": "code",
      "metadata": {
        "colab": {
          "base_uri": "https://localhost:8080/",
          "height": 334
        },
        "id": "xfK5aWEZ62Ai",
        "outputId": "941e8ab7-dd87-43c5-f2ec-ffd88ecec77e"
      },
      "source": [
        "df.describe()\n",
        "## Rooms max 120 삭제\n",
        "## Postcode 삭제\n",
        "## Description 삭제\n",
        "## Lattitude, Longtitude 삭제"
      ],
      "execution_count": null,
      "outputs": [
        {
          "output_type": "execute_result",
          "data": {
            "text/html": [
              "<div>\n",
              "<style scoped>\n",
              "    .dataframe tbody tr th:only-of-type {\n",
              "        vertical-align: middle;\n",
              "    }\n",
              "\n",
              "    .dataframe tbody tr th {\n",
              "        vertical-align: top;\n",
              "    }\n",
              "\n",
              "    .dataframe thead th {\n",
              "        text-align: right;\n",
              "    }\n",
              "</style>\n",
              "<table border=\"1\" class=\"dataframe\">\n",
              "  <thead>\n",
              "    <tr style=\"text-align: right;\">\n",
              "      <th></th>\n",
              "      <th>Unnamed: 0</th>\n",
              "      <th>Rooms</th>\n",
              "      <th>Price</th>\n",
              "      <th>Distance</th>\n",
              "      <th>Postcode</th>\n",
              "      <th>Bedroom2</th>\n",
              "      <th>Bathroom</th>\n",
              "      <th>Car</th>\n",
              "      <th>Landsize</th>\n",
              "      <th>BuildingArea</th>\n",
              "      <th>YearBuilt</th>\n",
              "      <th>Lattitude</th>\n",
              "      <th>Longtitude</th>\n",
              "      <th>Propertycount</th>\n",
              "      <th>Description</th>\n",
              "    </tr>\n",
              "  </thead>\n",
              "  <tbody>\n",
              "    <tr>\n",
              "      <th>count</th>\n",
              "      <td>23547.00000</td>\n",
              "      <td>23547.000000</td>\n",
              "      <td>1.839600e+04</td>\n",
              "      <td>23546.000000</td>\n",
              "      <td>23546.000000</td>\n",
              "      <td>19066.000000</td>\n",
              "      <td>19063.000000</td>\n",
              "      <td>18921.000000</td>\n",
              "      <td>17410.000000</td>\n",
              "      <td>10018.000000</td>\n",
              "      <td>11540.000000</td>\n",
              "      <td>19243.000000</td>\n",
              "      <td>19243.000000</td>\n",
              "      <td>23546.000000</td>\n",
              "      <td>0.0</td>\n",
              "    </tr>\n",
              "    <tr>\n",
              "      <th>mean</th>\n",
              "      <td>11773.00000</td>\n",
              "      <td>2.981102</td>\n",
              "      <td>1.056697e+06</td>\n",
              "      <td>10.304222</td>\n",
              "      <td>3109.782893</td>\n",
              "      <td>2.951956</td>\n",
              "      <td>1.570897</td>\n",
              "      <td>1.626235</td>\n",
              "      <td>551.783458</td>\n",
              "      <td>154.527895</td>\n",
              "      <td>1964.636742</td>\n",
              "      <td>-37.812434</td>\n",
              "      <td>145.000287</td>\n",
              "      <td>7517.480591</td>\n",
              "      <td>NaN</td>\n",
              "    </tr>\n",
              "    <tr>\n",
              "      <th>std</th>\n",
              "      <td>6797.57773</td>\n",
              "      <td>1.237364</td>\n",
              "      <td>6.419217e+05</td>\n",
              "      <td>6.019455</td>\n",
              "      <td>94.522190</td>\n",
              "      <td>0.996032</td>\n",
              "      <td>0.712684</td>\n",
              "      <td>0.974048</td>\n",
              "      <td>3544.288014</td>\n",
              "      <td>462.535765</td>\n",
              "      <td>37.595504</td>\n",
              "      <td>0.079926</td>\n",
              "      <td>0.106071</td>\n",
              "      <td>4414.995634</td>\n",
              "      <td>NaN</td>\n",
              "    </tr>\n",
              "    <tr>\n",
              "      <th>min</th>\n",
              "      <td>0.00000</td>\n",
              "      <td>1.000000</td>\n",
              "      <td>8.500000e+04</td>\n",
              "      <td>-13.900000</td>\n",
              "      <td>3000.000000</td>\n",
              "      <td>0.000000</td>\n",
              "      <td>0.000000</td>\n",
              "      <td>0.000000</td>\n",
              "      <td>0.000000</td>\n",
              "      <td>0.000000</td>\n",
              "      <td>1196.000000</td>\n",
              "      <td>-38.184180</td>\n",
              "      <td>144.431620</td>\n",
              "      <td>129.000000</td>\n",
              "      <td>NaN</td>\n",
              "    </tr>\n",
              "    <tr>\n",
              "      <th>25%</th>\n",
              "      <td>5886.50000</td>\n",
              "      <td>2.000000</td>\n",
              "      <td>6.330000e+05</td>\n",
              "      <td>6.200000</td>\n",
              "      <td>3047.000000</td>\n",
              "      <td>2.000000</td>\n",
              "      <td>1.000000</td>\n",
              "      <td>1.000000</td>\n",
              "      <td>181.000000</td>\n",
              "      <td>95.000000</td>\n",
              "      <td>1940.000000</td>\n",
              "      <td>-37.859300</td>\n",
              "      <td>144.939300</td>\n",
              "      <td>4385.000000</td>\n",
              "      <td>NaN</td>\n",
              "    </tr>\n",
              "    <tr>\n",
              "      <th>50%</th>\n",
              "      <td>11773.00000</td>\n",
              "      <td>3.000000</td>\n",
              "      <td>8.800000e+05</td>\n",
              "      <td>9.500000</td>\n",
              "      <td>3101.000000</td>\n",
              "      <td>3.000000</td>\n",
              "      <td>1.000000</td>\n",
              "      <td>2.000000</td>\n",
              "      <td>448.000000</td>\n",
              "      <td>129.000000</td>\n",
              "      <td>1970.000000</td>\n",
              "      <td>-37.809700</td>\n",
              "      <td>145.004300</td>\n",
              "      <td>6567.000000</td>\n",
              "      <td>NaN</td>\n",
              "    </tr>\n",
              "    <tr>\n",
              "      <th>75%</th>\n",
              "      <td>17659.50000</td>\n",
              "      <td>4.000000</td>\n",
              "      <td>1.302000e+06</td>\n",
              "      <td>13.000000</td>\n",
              "      <td>3150.000000</td>\n",
              "      <td>4.000000</td>\n",
              "      <td>2.000000</td>\n",
              "      <td>2.000000</td>\n",
              "      <td>656.000000</td>\n",
              "      <td>180.000000</td>\n",
              "      <td>2000.000000</td>\n",
              "      <td>-37.759800</td>\n",
              "      <td>145.063100</td>\n",
              "      <td>10331.000000</td>\n",
              "      <td>NaN</td>\n",
              "    </tr>\n",
              "    <tr>\n",
              "      <th>max</th>\n",
              "      <td>23546.00000</td>\n",
              "      <td>120.000000</td>\n",
              "      <td>9.000000e+06</td>\n",
              "      <td>48.100000</td>\n",
              "      <td>3978.000000</td>\n",
              "      <td>30.000000</td>\n",
              "      <td>12.000000</td>\n",
              "      <td>26.000000</td>\n",
              "      <td>433014.000000</td>\n",
              "      <td>44515.000000</td>\n",
              "      <td>2106.000000</td>\n",
              "      <td>-37.407580</td>\n",
              "      <td>145.526350</td>\n",
              "      <td>21650.000000</td>\n",
              "      <td>NaN</td>\n",
              "    </tr>\n",
              "  </tbody>\n",
              "</table>\n",
              "</div>"
            ],
            "text/plain": [
              "        Unnamed: 0         Rooms  ...  Propertycount  Description\n",
              "count  23547.00000  23547.000000  ...   23546.000000          0.0\n",
              "mean   11773.00000      2.981102  ...    7517.480591          NaN\n",
              "std     6797.57773      1.237364  ...    4414.995634          NaN\n",
              "min        0.00000      1.000000  ...     129.000000          NaN\n",
              "25%     5886.50000      2.000000  ...    4385.000000          NaN\n",
              "50%    11773.00000      3.000000  ...    6567.000000          NaN\n",
              "75%    17659.50000      4.000000  ...   10331.000000          NaN\n",
              "max    23546.00000    120.000000  ...   21650.000000          NaN\n",
              "\n",
              "[8 rows x 15 columns]"
            ]
          },
          "metadata": {
            "tags": []
          },
          "execution_count": 7
        }
      ]
    },
    {
      "cell_type": "markdown",
      "metadata": {
        "id": "oHh-OVNf78j-"
      },
      "source": [
        "## 2. Visualization"
      ]
    },
    {
      "cell_type": "code",
      "metadata": {
        "colab": {
          "base_uri": "https://localhost:8080/",
          "height": 421
        },
        "id": "3-2aR-pg6-ek",
        "outputId": "7e51d181-a8f2-43b4-9006-c7011582ea92"
      },
      "source": [
        "plt.rcParams['figure.figsize'] = [14, 8]\n",
        "hist = df.hist()"
      ],
      "execution_count": null,
      "outputs": [
        {
          "output_type": "display_data",
          "data": {
            "image/png": "[encoded data removed]",
            "text/plain": [
              "<Figure size 1008x576 with 16 Axes>"
            ]
          },
          "metadata": {
            "tags": [],
            "needs_background": "light"
          }
        }
      ]
    },
    {
      "cell_type": "code",
      "metadata": {
        "colab": {
          "base_uri": "https://localhost:8080/",
          "height": 544
        },
        "id": "mKuRY0707YIg",
        "outputId": "e0e043ae-e046-4791-db56-4262b6285a6c"
      },
      "source": [
        "cormat = df.corr()\n",
        "top_corr_features = cormat.index[abs(cormat['Price']) >= 0.3]\n",
        "print(top_corr_features)\n",
        "plt.figure(figsize = (15, 10))\n",
        "g = sns.heatmap(df[top_corr_features].corr(), annot = True, cmap = 'Blues')"
      ],
      "execution_count": null,
      "outputs": [
        {
          "output_type": "stream",
          "text": [
            "Index(['Rooms', 'Price', 'Bedroom2', 'Bathroom', 'YearBuilt'], dtype='object')\n"
          ],
          "name": "stdout"
        },
        {
          "output_type": "display_data",
          "data": {
            "image/png": "[encoded data removed]",
            "text/plain": [
              "<Figure size 1080x720 with 2 Axes>"
            ]
          },
          "metadata": {
            "tags": [],
            "needs_background": "light"
          }
        }
      ]
    },
    {
      "cell_type": "code",
      "metadata": {
        "colab": {
          "base_uri": "https://localhost:8080/",
          "height": 722
        },
        "id": "76C__7107y9w",
        "outputId": "87b2142d-b222-428c-85ab-8bb78c01c738"
      },
      "source": [
        "g = sns.pairplot(df[list(top_corr_features)], height = 2)\n",
        "g.map_diag(sns.kdeplot, color = '.1')\n",
        "g.map_offdiag(sns.scatterplot, hue = df['Price'], s = 5, linewidth = 0)\n",
        "g.axes[1, -1].legend(loc = 'center left', bbox_to_anchor = (0.7, 0.5))\n",
        "plt.tight_layout()"
      ],
      "execution_count": null,
      "outputs": [
        {
          "output_type": "display_data",
          "data": {
            "image/png": "[encoded data removed]",
            "text/plain": [
              "<Figure size 720x720 with 30 Axes>"
            ]
          },
          "metadata": {
            "tags": [],
            "needs_background": "light"
          }
        }
      ]
    },
    {
      "cell_type": "code",
      "metadata": {
        "colab": {
          "base_uri": "https://localhost:8080/"
        },
        "id": "09zQaEg88UBb",
        "outputId": "719d7550-ae5d-4a5d-b645-d16fb488e2ca"
      },
      "source": [
        "df.isnull().sum().sort_values(ascending = False)\n",
        "## Description, BuildingArea, YearBulit, CouncilArea, Lattitude, Longtitude 삭제\n",
        "## Landsize, Car, Bathroom, Bedroom2, Propertycount, Distance 평균 대치\n",
        "## Price null row 삭제"
      ],
      "execution_count": null,
      "outputs": [
        {
          "output_type": "execute_result",
          "data": {
            "text/plain": [
              "Description      23547\n",
              "BuildingArea     13529\n",
              "YearBuilt        12007\n",
              "CouncilArea       7891\n",
              "Landsize          6137\n",
              "Price             5151\n",
              "Car               4626\n",
              "Bathroom          4484\n",
              "Bedroom2          4481\n",
              "Lattitude         4304\n",
              "Longtitude        4304\n",
              "Propertycount        1\n",
              "Postcode             1\n",
              "Distance             1\n",
              "Regionname           1\n",
              "Date                 0\n",
              "SellerG              0\n",
              "Method               0\n",
              "Type                 0\n",
              "Rooms                0\n",
              "Address              0\n",
              "Suburb               0\n",
              "Unnamed: 0           0\n",
              "dtype: int64"
            ]
          },
          "metadata": {
            "tags": []
          },
          "execution_count": 13
        }
      ]
    },
    {
      "cell_type": "code",
      "metadata": {
        "colab": {
          "base_uri": "https://localhost:8080/"
        },
        "id": "7v7cGWiR8jbk",
        "outputId": "86b79504-b48a-49c7-8ca8-663fa23ab212"
      },
      "source": [
        "df.isnull().sum(axis = 1).sort_values(ascending = False)"
      ],
      "execution_count": null,
      "outputs": [
        {
          "output_type": "execute_result",
          "data": {
            "text/plain": [
              "18523    14\n",
              "17100    11\n",
              "16232    11\n",
              "20968    11\n",
              "6313     11\n",
              "         ..\n",
              "11553     1\n",
              "5077      1\n",
              "11551     1\n",
              "11550     1\n",
              "8551      1\n",
              "Length: 23547, dtype: int64"
            ]
          },
          "metadata": {
            "tags": []
          },
          "execution_count": 14
        }
      ]
    },
    {
      "cell_type": "code",
      "metadata": {
        "colab": {
          "base_uri": "https://localhost:8080/"
        },
        "id": "rizDUFbG9gfk",
        "outputId": "a8806729-46e1-465e-c3ac-3f22531ec6ef"
      },
      "source": [
        "df.isnull().sum() > 0"
      ],
      "execution_count": null,
      "outputs": [
        {
          "output_type": "execute_result",
          "data": {
            "text/plain": [
              "Unnamed: 0       False\n",
              "Suburb           False\n",
              "Address          False\n",
              "Rooms            False\n",
              "Type             False\n",
              "Price             True\n",
              "Method           False\n",
              "SellerG          False\n",
              "Date             False\n",
              "Distance          True\n",
              "Postcode          True\n",
              "Bedroom2          True\n",
              "Bathroom          True\n",
              "Car               True\n",
              "Landsize          True\n",
              "BuildingArea      True\n",
              "YearBuilt         True\n",
              "CouncilArea       True\n",
              "Lattitude         True\n",
              "Longtitude        True\n",
              "Regionname        True\n",
              "Propertycount     True\n",
              "Description       True\n",
              "dtype: bool"
            ]
          },
          "metadata": {
            "tags": []
          },
          "execution_count": 15
        }
      ]
    },
    {
      "cell_type": "code",
      "metadata": {
        "colab": {
          "base_uri": "https://localhost:8080/"
        },
        "id": "mc6XJ_VG9kTe",
        "outputId": "4ecc0cb2-f15e-4dbd-8645-c6a0c935e83c"
      },
      "source": [
        "d = df.isnull().any()\n",
        "d"
      ],
      "execution_count": null,
      "outputs": [
        {
          "output_type": "execute_result",
          "data": {
            "text/plain": [
              "Unnamed: 0       False\n",
              "Suburb           False\n",
              "Address          False\n",
              "Rooms            False\n",
              "Type             False\n",
              "Price             True\n",
              "Method           False\n",
              "SellerG          False\n",
              "Date             False\n",
              "Distance          True\n",
              "Postcode          True\n",
              "Bedroom2          True\n",
              "Bathroom          True\n",
              "Car               True\n",
              "Landsize          True\n",
              "BuildingArea      True\n",
              "YearBuilt         True\n",
              "CouncilArea       True\n",
              "Lattitude         True\n",
              "Longtitude        True\n",
              "Regionname        True\n",
              "Propertycount     True\n",
              "Description       True\n",
              "dtype: bool"
            ]
          },
          "metadata": {
            "tags": []
          },
          "execution_count": 17
        }
      ]
    },
    {
      "cell_type": "code",
      "metadata": {
        "colab": {
          "base_uri": "https://localhost:8080/"
        },
        "id": "6HE1sDzA9o6R",
        "outputId": "d3c3d164-9640-4444-daa0-2d1d2577c7f5"
      },
      "source": [
        "col = df.isnull().sum().sort_values(ascending = False).head(3).index.values\n",
        "col"
      ],
      "execution_count": null,
      "outputs": [
        {
          "output_type": "execute_result",
          "data": {
            "text/plain": [
              "array(['Description', 'BuildingArea', 'YearBuilt'], dtype=object)"
            ]
          },
          "metadata": {
            "tags": []
          },
          "execution_count": 18
        }
      ]
    },
    {
      "cell_type": "code",
      "metadata": {
        "colab": {
          "base_uri": "https://localhost:8080/",
          "height": 796
        },
        "id": "MjT-a7g9-YPZ",
        "outputId": "28da1ed5-8f5a-46bf-d919-f7c2fdd3c2d8"
      },
      "source": [
        "df.drop(col, axis = 1, inplace = True)\n",
        "df"
      ],
      "execution_count": null,
      "outputs": [
        {
          "output_type": "execute_result",
          "data": {
            "text/html": [
              "<div>\n",
              "<style scoped>\n",
              "    .dataframe tbody tr th:only-of-type {\n",
              "        vertical-align: middle;\n",
              "    }\n",
              "\n",
              "    .dataframe tbody tr th {\n",
              "        vertical-align: top;\n",
              "    }\n",
              "\n",
              "    .dataframe thead th {\n",
              "        text-align: right;\n",
              "    }\n",
              "</style>\n",
              "<table border=\"1\" class=\"dataframe\">\n",
              "  <thead>\n",
              "    <tr style=\"text-align: right;\">\n",
              "      <th></th>\n",
              "      <th>Unnamed: 0</th>\n",
              "      <th>Suburb</th>\n",
              "      <th>Address</th>\n",
              "      <th>Rooms</th>\n",
              "      <th>Type</th>\n",
              "      <th>Price</th>\n",
              "      <th>Method</th>\n",
              "      <th>SellerG</th>\n",
              "      <th>Date</th>\n",
              "      <th>Distance</th>\n",
              "      <th>Postcode</th>\n",
              "      <th>Bedroom2</th>\n",
              "      <th>Bathroom</th>\n",
              "      <th>Car</th>\n",
              "      <th>Landsize</th>\n",
              "      <th>CouncilArea</th>\n",
              "      <th>Lattitude</th>\n",
              "      <th>Longtitude</th>\n",
              "      <th>Regionname</th>\n",
              "      <th>Propertycount</th>\n",
              "    </tr>\n",
              "  </thead>\n",
              "  <tbody>\n",
              "    <tr>\n",
              "      <th>0</th>\n",
              "      <td>0</td>\n",
              "      <td>Abbotsford</td>\n",
              "      <td>68 Studley St</td>\n",
              "      <td>2</td>\n",
              "      <td>h</td>\n",
              "      <td>NaN</td>\n",
              "      <td>SS</td>\n",
              "      <td>Jellis</td>\n",
              "      <td>03-09-2016</td>\n",
              "      <td>2.5</td>\n",
              "      <td>3067.0</td>\n",
              "      <td>2.0</td>\n",
              "      <td>1.0</td>\n",
              "      <td>1.0</td>\n",
              "      <td>126.0</td>\n",
              "      <td>Yarra</td>\n",
              "      <td>-37.80140</td>\n",
              "      <td>144.99580</td>\n",
              "      <td>Northern Metropolitan</td>\n",
              "      <td>4019.0</td>\n",
              "    </tr>\n",
              "    <tr>\n",
              "      <th>1</th>\n",
              "      <td>1</td>\n",
              "      <td>Abbotsford</td>\n",
              "      <td>85 Turner St</td>\n",
              "      <td>2</td>\n",
              "      <td>h</td>\n",
              "      <td>1480000.0</td>\n",
              "      <td>S</td>\n",
              "      <td>Biggin</td>\n",
              "      <td>03-12-2016</td>\n",
              "      <td>2.5</td>\n",
              "      <td>3067.0</td>\n",
              "      <td>2.0</td>\n",
              "      <td>1.0</td>\n",
              "      <td>1.0</td>\n",
              "      <td>202.0</td>\n",
              "      <td>Yarra</td>\n",
              "      <td>-37.79960</td>\n",
              "      <td>144.99840</td>\n",
              "      <td>Northern Metropolitan</td>\n",
              "      <td>4019.0</td>\n",
              "    </tr>\n",
              "    <tr>\n",
              "      <th>2</th>\n",
              "      <td>2</td>\n",
              "      <td>Abbotsford</td>\n",
              "      <td>25 Bloomburg St</td>\n",
              "      <td>2</td>\n",
              "      <td>h</td>\n",
              "      <td>1035000.0</td>\n",
              "      <td>S</td>\n",
              "      <td>Biggin</td>\n",
              "      <td>04-02-2016</td>\n",
              "      <td>2.5</td>\n",
              "      <td>3067.0</td>\n",
              "      <td>2.0</td>\n",
              "      <td>1.0</td>\n",
              "      <td>0.0</td>\n",
              "      <td>156.0</td>\n",
              "      <td>Yarra</td>\n",
              "      <td>-37.80790</td>\n",
              "      <td>144.99340</td>\n",
              "      <td>Northern Metropolitan</td>\n",
              "      <td>4019.0</td>\n",
              "    </tr>\n",
              "    <tr>\n",
              "      <th>3</th>\n",
              "      <td>3</td>\n",
              "      <td>Abbotsford</td>\n",
              "      <td>18/659 Victoria St</td>\n",
              "      <td>3</td>\n",
              "      <td>u</td>\n",
              "      <td>NaN</td>\n",
              "      <td>VB</td>\n",
              "      <td>Rounds</td>\n",
              "      <td>04-02-2016</td>\n",
              "      <td>2.5</td>\n",
              "      <td>3067.0</td>\n",
              "      <td>3.0</td>\n",
              "      <td>2.0</td>\n",
              "      <td>1.0</td>\n",
              "      <td>0.0</td>\n",
              "      <td>Yarra</td>\n",
              "      <td>-37.81140</td>\n",
              "      <td>145.01160</td>\n",
              "      <td>Northern Metropolitan</td>\n",
              "      <td>4019.0</td>\n",
              "    </tr>\n",
              "    <tr>\n",
              "      <th>4</th>\n",
              "      <td>4</td>\n",
              "      <td>Abbotsford</td>\n",
              "      <td>5 Charles St</td>\n",
              "      <td>3</td>\n",
              "      <td>h</td>\n",
              "      <td>1465000.0</td>\n",
              "      <td>SP</td>\n",
              "      <td>Biggin</td>\n",
              "      <td>04-03-2017</td>\n",
              "      <td>2.5</td>\n",
              "      <td>3067.0</td>\n",
              "      <td>3.0</td>\n",
              "      <td>2.0</td>\n",
              "      <td>0.0</td>\n",
              "      <td>134.0</td>\n",
              "      <td>Yarra</td>\n",
              "      <td>-37.80930</td>\n",
              "      <td>144.99440</td>\n",
              "      <td>Northern Metropolitan</td>\n",
              "      <td>4019.0</td>\n",
              "    </tr>\n",
              "    <tr>\n",
              "      <th>...</th>\n",
              "      <td>...</td>\n",
              "      <td>...</td>\n",
              "      <td>...</td>\n",
              "      <td>...</td>\n",
              "      <td>...</td>\n",
              "      <td>...</td>\n",
              "      <td>...</td>\n",
              "      <td>...</td>\n",
              "      <td>...</td>\n",
              "      <td>...</td>\n",
              "      <td>...</td>\n",
              "      <td>...</td>\n",
              "      <td>...</td>\n",
              "      <td>...</td>\n",
              "      <td>...</td>\n",
              "      <td>...</td>\n",
              "      <td>...</td>\n",
              "      <td>...</td>\n",
              "      <td>...</td>\n",
              "      <td>...</td>\n",
              "    </tr>\n",
              "    <tr>\n",
              "      <th>23542</th>\n",
              "      <td>23542</td>\n",
              "      <td>Wyndham Vale</td>\n",
              "      <td>25 Clitheroe Dr</td>\n",
              "      <td>3</td>\n",
              "      <td>u</td>\n",
              "      <td>NaN</td>\n",
              "      <td>PN</td>\n",
              "      <td>Harcourts</td>\n",
              "      <td>26-08-2017</td>\n",
              "      <td>27.2</td>\n",
              "      <td>3024.0</td>\n",
              "      <td>3.0</td>\n",
              "      <td>1.0</td>\n",
              "      <td>0.0</td>\n",
              "      <td>552.0</td>\n",
              "      <td>NaN</td>\n",
              "      <td>-37.90032</td>\n",
              "      <td>144.61839</td>\n",
              "      <td>Western Metropolitan</td>\n",
              "      <td>5262.0</td>\n",
              "    </tr>\n",
              "    <tr>\n",
              "      <th>23543</th>\n",
              "      <td>23543</td>\n",
              "      <td>Wyndham Vale</td>\n",
              "      <td>19 Dalrymple Bvd</td>\n",
              "      <td>4</td>\n",
              "      <td>h</td>\n",
              "      <td>NaN</td>\n",
              "      <td>S</td>\n",
              "      <td>hockingstuart</td>\n",
              "      <td>26-08-2017</td>\n",
              "      <td>27.2</td>\n",
              "      <td>3024.0</td>\n",
              "      <td>NaN</td>\n",
              "      <td>NaN</td>\n",
              "      <td>NaN</td>\n",
              "      <td>NaN</td>\n",
              "      <td>NaN</td>\n",
              "      <td>-37.87882</td>\n",
              "      <td>144.60184</td>\n",
              "      <td>Western Metropolitan</td>\n",
              "      <td>5262.0</td>\n",
              "    </tr>\n",
              "    <tr>\n",
              "      <th>23544</th>\n",
              "      <td>23544</td>\n",
              "      <td>Yallambie</td>\n",
              "      <td>17 Amaroo Wy</td>\n",
              "      <td>4</td>\n",
              "      <td>h</td>\n",
              "      <td>1100000.0</td>\n",
              "      <td>S</td>\n",
              "      <td>Buckingham</td>\n",
              "      <td>26-08-2017</td>\n",
              "      <td>12.7</td>\n",
              "      <td>3085.0</td>\n",
              "      <td>4.0</td>\n",
              "      <td>3.0</td>\n",
              "      <td>2.0</td>\n",
              "      <td>NaN</td>\n",
              "      <td>NaN</td>\n",
              "      <td>-37.72006</td>\n",
              "      <td>145.10547</td>\n",
              "      <td>Northern Metropolitan</td>\n",
              "      <td>1369.0</td>\n",
              "    </tr>\n",
              "    <tr>\n",
              "      <th>23545</th>\n",
              "      <td>23545</td>\n",
              "      <td>Yarraville</td>\n",
              "      <td>6 Agnes St</td>\n",
              "      <td>4</td>\n",
              "      <td>h</td>\n",
              "      <td>1285000.0</td>\n",
              "      <td>SP</td>\n",
              "      <td>Village</td>\n",
              "      <td>26-08-2017</td>\n",
              "      <td>6.3</td>\n",
              "      <td>3013.0</td>\n",
              "      <td>4.0</td>\n",
              "      <td>1.0</td>\n",
              "      <td>1.0</td>\n",
              "      <td>362.0</td>\n",
              "      <td>NaN</td>\n",
              "      <td>-37.81188</td>\n",
              "      <td>144.88449</td>\n",
              "      <td>Western Metropolitan</td>\n",
              "      <td>6543.0</td>\n",
              "    </tr>\n",
              "    <tr>\n",
              "      <th>23546</th>\n",
              "      <td>23546</td>\n",
              "      <td>Yarraville</td>\n",
              "      <td>33 Freeman St</td>\n",
              "      <td>4</td>\n",
              "      <td>h</td>\n",
              "      <td>1050000.0</td>\n",
              "      <td>VB</td>\n",
              "      <td>Village</td>\n",
              "      <td>26-08-2017</td>\n",
              "      <td>6.3</td>\n",
              "      <td>3013.0</td>\n",
              "      <td>4.0</td>\n",
              "      <td>2.0</td>\n",
              "      <td>2.0</td>\n",
              "      <td>NaN</td>\n",
              "      <td>NaN</td>\n",
              "      <td>-37.81829</td>\n",
              "      <td>144.87404</td>\n",
              "      <td>Western Metropolitan</td>\n",
              "      <td>6543.0</td>\n",
              "    </tr>\n",
              "  </tbody>\n",
              "</table>\n",
              "<p>23547 rows × 20 columns</p>\n",
              "</div>"
            ],
            "text/plain": [
              "       Unnamed: 0        Suburb  ...             Regionname  Propertycount\n",
              "0               0    Abbotsford  ...  Northern Metropolitan         4019.0\n",
              "1               1    Abbotsford  ...  Northern Metropolitan         4019.0\n",
              "2               2    Abbotsford  ...  Northern Metropolitan         4019.0\n",
              "3               3    Abbotsford  ...  Northern Metropolitan         4019.0\n",
              "4               4    Abbotsford  ...  Northern Metropolitan         4019.0\n",
              "...           ...           ...  ...                    ...            ...\n",
              "23542       23542  Wyndham Vale  ...   Western Metropolitan         5262.0\n",
              "23543       23543  Wyndham Vale  ...   Western Metropolitan         5262.0\n",
              "23544       23544     Yallambie  ...  Northern Metropolitan         1369.0\n",
              "23545       23545    Yarraville  ...   Western Metropolitan         6543.0\n",
              "23546       23546    Yarraville  ...   Western Metropolitan         6543.0\n",
              "\n",
              "[23547 rows x 20 columns]"
            ]
          },
          "metadata": {
            "tags": []
          },
          "execution_count": 19
        }
      ]
    },
    {
      "cell_type": "code",
      "metadata": {
        "id": "aFUrV8uq-btJ"
      },
      "source": [
        "df.drop(['CouncilArea', 'Lattitude', 'Longtitude'], axis = 1, inplace = True)"
      ],
      "execution_count": null,
      "outputs": []
    },
    {
      "cell_type": "code",
      "metadata": {
        "colab": {
          "base_uri": "https://localhost:8080/"
        },
        "id": "dw7vhrL_-yga",
        "outputId": "e57c5e73-69dd-40b2-f5e3-e5ea5e14024b"
      },
      "source": [
        "df.shape"
      ],
      "execution_count": null,
      "outputs": [
        {
          "output_type": "execute_result",
          "data": {
            "text/plain": [
              "(23547, 17)"
            ]
          },
          "metadata": {
            "tags": []
          },
          "execution_count": 22
        }
      ]
    },
    {
      "cell_type": "code",
      "metadata": {
        "id": "h-FH_Nfc_SHi"
      },
      "source": [
        "df.drop(['Unnamed: 0', 'Postcode', 'Address'], axis = 1, inplace = True)"
      ],
      "execution_count": null,
      "outputs": []
    },
    {
      "cell_type": "code",
      "metadata": {
        "colab": {
          "base_uri": "https://localhost:8080/",
          "height": 779
        },
        "id": "GmaK5_zF-5cF",
        "outputId": "1a2578ee-275a-40ba-e6ff-602a6a77e6ac"
      },
      "source": [
        "df.loc[~df.Price.isnull(), :]"
      ],
      "execution_count": null,
      "outputs": [
        {
          "output_type": "execute_result",
          "data": {
            "text/html": [
              "<div>\n",
              "<style scoped>\n",
              "    .dataframe tbody tr th:only-of-type {\n",
              "        vertical-align: middle;\n",
              "    }\n",
              "\n",
              "    .dataframe tbody tr th {\n",
              "        vertical-align: top;\n",
              "    }\n",
              "\n",
              "    .dataframe thead th {\n",
              "        text-align: right;\n",
              "    }\n",
              "</style>\n",
              "<table border=\"1\" class=\"dataframe\">\n",
              "  <thead>\n",
              "    <tr style=\"text-align: right;\">\n",
              "      <th></th>\n",
              "      <th>Suburb</th>\n",
              "      <th>Rooms</th>\n",
              "      <th>Type</th>\n",
              "      <th>Price</th>\n",
              "      <th>Method</th>\n",
              "      <th>SellerG</th>\n",
              "      <th>Date</th>\n",
              "      <th>Distance</th>\n",
              "      <th>Bedroom2</th>\n",
              "      <th>Bathroom</th>\n",
              "      <th>Car</th>\n",
              "      <th>Landsize</th>\n",
              "      <th>Regionname</th>\n",
              "      <th>Propertycount</th>\n",
              "    </tr>\n",
              "  </thead>\n",
              "  <tbody>\n",
              "    <tr>\n",
              "      <th>1</th>\n",
              "      <td>Abbotsford</td>\n",
              "      <td>2</td>\n",
              "      <td>h</td>\n",
              "      <td>1480000.0</td>\n",
              "      <td>S</td>\n",
              "      <td>Biggin</td>\n",
              "      <td>03-12-2016</td>\n",
              "      <td>2.5</td>\n",
              "      <td>2.0</td>\n",
              "      <td>1.0</td>\n",
              "      <td>1.0</td>\n",
              "      <td>202.0</td>\n",
              "      <td>Northern Metropolitan</td>\n",
              "      <td>4019.0</td>\n",
              "    </tr>\n",
              "    <tr>\n",
              "      <th>2</th>\n",
              "      <td>Abbotsford</td>\n",
              "      <td>2</td>\n",
              "      <td>h</td>\n",
              "      <td>1035000.0</td>\n",
              "      <td>S</td>\n",
              "      <td>Biggin</td>\n",
              "      <td>04-02-2016</td>\n",
              "      <td>2.5</td>\n",
              "      <td>2.0</td>\n",
              "      <td>1.0</td>\n",
              "      <td>0.0</td>\n",
              "      <td>156.0</td>\n",
              "      <td>Northern Metropolitan</td>\n",
              "      <td>4019.0</td>\n",
              "    </tr>\n",
              "    <tr>\n",
              "      <th>4</th>\n",
              "      <td>Abbotsford</td>\n",
              "      <td>3</td>\n",
              "      <td>h</td>\n",
              "      <td>1465000.0</td>\n",
              "      <td>SP</td>\n",
              "      <td>Biggin</td>\n",
              "      <td>04-03-2017</td>\n",
              "      <td>2.5</td>\n",
              "      <td>3.0</td>\n",
              "      <td>2.0</td>\n",
              "      <td>0.0</td>\n",
              "      <td>134.0</td>\n",
              "      <td>Northern Metropolitan</td>\n",
              "      <td>4019.0</td>\n",
              "    </tr>\n",
              "    <tr>\n",
              "      <th>5</th>\n",
              "      <td>Abbotsford</td>\n",
              "      <td>3</td>\n",
              "      <td>h</td>\n",
              "      <td>850000.0</td>\n",
              "      <td>PI</td>\n",
              "      <td>Biggin</td>\n",
              "      <td>04-03-2017</td>\n",
              "      <td>2.5</td>\n",
              "      <td>3.0</td>\n",
              "      <td>2.0</td>\n",
              "      <td>1.0</td>\n",
              "      <td>94.0</td>\n",
              "      <td>Northern Metropolitan</td>\n",
              "      <td>4019.0</td>\n",
              "    </tr>\n",
              "    <tr>\n",
              "      <th>6</th>\n",
              "      <td>Abbotsford</td>\n",
              "      <td>4</td>\n",
              "      <td>h</td>\n",
              "      <td>1600000.0</td>\n",
              "      <td>VB</td>\n",
              "      <td>Nelson</td>\n",
              "      <td>04-06-2016</td>\n",
              "      <td>2.5</td>\n",
              "      <td>3.0</td>\n",
              "      <td>1.0</td>\n",
              "      <td>2.0</td>\n",
              "      <td>120.0</td>\n",
              "      <td>Northern Metropolitan</td>\n",
              "      <td>4019.0</td>\n",
              "    </tr>\n",
              "    <tr>\n",
              "      <th>...</th>\n",
              "      <td>...</td>\n",
              "      <td>...</td>\n",
              "      <td>...</td>\n",
              "      <td>...</td>\n",
              "      <td>...</td>\n",
              "      <td>...</td>\n",
              "      <td>...</td>\n",
              "      <td>...</td>\n",
              "      <td>...</td>\n",
              "      <td>...</td>\n",
              "      <td>...</td>\n",
              "      <td>...</td>\n",
              "      <td>...</td>\n",
              "      <td>...</td>\n",
              "    </tr>\n",
              "    <tr>\n",
              "      <th>23540</th>\n",
              "      <td>Williamstown</td>\n",
              "      <td>2</td>\n",
              "      <td>t</td>\n",
              "      <td>622500.0</td>\n",
              "      <td>SP</td>\n",
              "      <td>Greg</td>\n",
              "      <td>26-08-2017</td>\n",
              "      <td>6.8</td>\n",
              "      <td>2.0</td>\n",
              "      <td>2.0</td>\n",
              "      <td>1.0</td>\n",
              "      <td>NaN</td>\n",
              "      <td>Western Metropolitan</td>\n",
              "      <td>6380.0</td>\n",
              "    </tr>\n",
              "    <tr>\n",
              "      <th>23541</th>\n",
              "      <td>Williamstown</td>\n",
              "      <td>4</td>\n",
              "      <td>h</td>\n",
              "      <td>2500000.0</td>\n",
              "      <td>PI</td>\n",
              "      <td>Sweeney</td>\n",
              "      <td>26-08-2017</td>\n",
              "      <td>6.8</td>\n",
              "      <td>4.0</td>\n",
              "      <td>1.0</td>\n",
              "      <td>5.0</td>\n",
              "      <td>866.0</td>\n",
              "      <td>Western Metropolitan</td>\n",
              "      <td>6380.0</td>\n",
              "    </tr>\n",
              "    <tr>\n",
              "      <th>23544</th>\n",
              "      <td>Yallambie</td>\n",
              "      <td>4</td>\n",
              "      <td>h</td>\n",
              "      <td>1100000.0</td>\n",
              "      <td>S</td>\n",
              "      <td>Buckingham</td>\n",
              "      <td>26-08-2017</td>\n",
              "      <td>12.7</td>\n",
              "      <td>4.0</td>\n",
              "      <td>3.0</td>\n",
              "      <td>2.0</td>\n",
              "      <td>NaN</td>\n",
              "      <td>Northern Metropolitan</td>\n",
              "      <td>1369.0</td>\n",
              "    </tr>\n",
              "    <tr>\n",
              "      <th>23545</th>\n",
              "      <td>Yarraville</td>\n",
              "      <td>4</td>\n",
              "      <td>h</td>\n",
              "      <td>1285000.0</td>\n",
              "      <td>SP</td>\n",
              "      <td>Village</td>\n",
              "      <td>26-08-2017</td>\n",
              "      <td>6.3</td>\n",
              "      <td>4.0</td>\n",
              "      <td>1.0</td>\n",
              "      <td>1.0</td>\n",
              "      <td>362.0</td>\n",
              "      <td>Western Metropolitan</td>\n",
              "      <td>6543.0</td>\n",
              "    </tr>\n",
              "    <tr>\n",
              "      <th>23546</th>\n",
              "      <td>Yarraville</td>\n",
              "      <td>4</td>\n",
              "      <td>h</td>\n",
              "      <td>1050000.0</td>\n",
              "      <td>VB</td>\n",
              "      <td>Village</td>\n",
              "      <td>26-08-2017</td>\n",
              "      <td>6.3</td>\n",
              "      <td>4.0</td>\n",
              "      <td>2.0</td>\n",
              "      <td>2.0</td>\n",
              "      <td>NaN</td>\n",
              "      <td>Western Metropolitan</td>\n",
              "      <td>6543.0</td>\n",
              "    </tr>\n",
              "  </tbody>\n",
              "</table>\n",
              "<p>18396 rows × 14 columns</p>\n",
              "</div>"
            ],
            "text/plain": [
              "             Suburb  Rooms Type  ...  Landsize             Regionname Propertycount\n",
              "1        Abbotsford      2    h  ...     202.0  Northern Metropolitan        4019.0\n",
              "2        Abbotsford      2    h  ...     156.0  Northern Metropolitan        4019.0\n",
              "4        Abbotsford      3    h  ...     134.0  Northern Metropolitan        4019.0\n",
              "5        Abbotsford      3    h  ...      94.0  Northern Metropolitan        4019.0\n",
              "6        Abbotsford      4    h  ...     120.0  Northern Metropolitan        4019.0\n",
              "...             ...    ...  ...  ...       ...                    ...           ...\n",
              "23540  Williamstown      2    t  ...       NaN   Western Metropolitan        6380.0\n",
              "23541  Williamstown      4    h  ...     866.0   Western Metropolitan        6380.0\n",
              "23544     Yallambie      4    h  ...       NaN  Northern Metropolitan        1369.0\n",
              "23545    Yarraville      4    h  ...     362.0   Western Metropolitan        6543.0\n",
              "23546    Yarraville      4    h  ...       NaN   Western Metropolitan        6543.0\n",
              "\n",
              "[18396 rows x 14 columns]"
            ]
          },
          "metadata": {
            "tags": []
          },
          "execution_count": 27
        }
      ]
    },
    {
      "cell_type": "code",
      "metadata": {
        "colab": {
          "base_uri": "https://localhost:8080/"
        },
        "id": "jFs4-w3m--Vy",
        "outputId": "0bde09c6-416b-4a99-a5f3-3fd92ac38157"
      },
      "source": [
        "# df.Suburb.value_counts() ## 삭제\n",
        "# df.Type.value_counts() ## 원핫인코딩\n",
        "# df.Method.value_counts() ## 원핫인코딩\n",
        "# df.SellerG.value_counts() ## 삭제\n",
        "# df.Date.value_counts() ## 월별 원핫인코딩\n",
        "df.Regionname.value_counts() ## 원핫인코딩"
      ],
      "execution_count": null,
      "outputs": [
        {
          "output_type": "execute_result",
          "data": {
            "text/plain": [
              "Southern Metropolitan         8772\n",
              "Northern Metropolitan         6480\n",
              "Western Metropolitan          4561\n",
              "Eastern Metropolitan          2640\n",
              "South-Eastern Metropolitan     857\n",
              "Eastern Victoria               107\n",
              "Northern Victoria               78\n",
              "Western Victoria                51\n",
              "Name: Regionname, dtype: int64"
            ]
          },
          "metadata": {
            "tags": []
          },
          "execution_count": 33
        }
      ]
    },
    {
      "cell_type": "code",
      "metadata": {
        "id": "7jvEUcUO_veJ"
      },
      "source": [
        "# Landsize, Car, Bathroom, Bedroom2, Propertycount, Distance 평균 대치\n",
        "df['Landsize'].fillna((df['Landsize'].mean()), inplace = True)\n",
        "df['Car'].fillna((df['Car'].mean()), inplace = True)\n",
        "df['Bathroom'].fillna((df['Bathroom'].mean()), inplace = True)\n",
        "df['Bedroom2'].fillna((df['Bedroom2'].mean()), inplace = True)\n",
        "df['Propertycount'].fillna((df['Propertycount'].mean()), inplace = True)\n",
        "df['Distance'].fillna((df['Distance'].mean()), inplace = True)"
      ],
      "execution_count": null,
      "outputs": []
    },
    {
      "cell_type": "code",
      "metadata": {
        "colab": {
          "base_uri": "https://localhost:8080/"
        },
        "id": "GPCFyBaTFmjG",
        "outputId": "dfaba2a0-2b6a-437e-9094-6a239e91e13c"
      },
      "source": [
        "df.shape"
      ],
      "execution_count": null,
      "outputs": [
        {
          "output_type": "execute_result",
          "data": {
            "text/plain": [
              "(23547, 14)"
            ]
          },
          "metadata": {
            "tags": []
          },
          "execution_count": 35
        }
      ]
    },
    {
      "cell_type": "code",
      "metadata": {
        "colab": {
          "base_uri": "https://localhost:8080/"
        },
        "id": "SEjLpPqnFoz1",
        "outputId": "4423edef-6568-4b19-a29f-d9e07b9ad787"
      },
      "source": [
        "df.info()"
      ],
      "execution_count": null,
      "outputs": [
        {
          "output_type": "stream",
          "text": [
            "<class 'pandas.core.frame.DataFrame'>\n",
            "RangeIndex: 23547 entries, 0 to 23546\n",
            "Data columns (total 14 columns):\n",
            " #   Column         Non-Null Count  Dtype  \n",
            "---  ------         --------------  -----  \n",
            " 0   Suburb         23547 non-null  object \n",
            " 1   Rooms          23547 non-null  int64  \n",
            " 2   Type           23547 non-null  object \n",
            " 3   Price          18396 non-null  float64\n",
            " 4   Method         23547 non-null  object \n",
            " 5   SellerG        23547 non-null  object \n",
            " 6   Date           23547 non-null  object \n",
            " 7   Distance       23547 non-null  float64\n",
            " 8   Bedroom2       23547 non-null  float64\n",
            " 9   Bathroom       23547 non-null  float64\n",
            " 10  Car            23547 non-null  float64\n",
            " 11  Landsize       23547 non-null  float64\n",
            " 12  Regionname     23546 non-null  object \n",
            " 13  Propertycount  23547 non-null  float64\n",
            "dtypes: float64(7), int64(1), object(6)\n",
            "memory usage: 2.5+ MB\n"
          ],
          "name": "stdout"
        }
      ]
    },
    {
      "cell_type": "code",
      "metadata": {
        "id": "sXT6GYm8Fptd"
      },
      "source": [
        "# Price null 제거\n",
        "df = df.loc[~df.Price.isnull(), :]"
      ],
      "execution_count": null,
      "outputs": []
    },
    {
      "cell_type": "code",
      "metadata": {
        "colab": {
          "base_uri": "https://localhost:8080/"
        },
        "id": "VGWtGxA0GCwJ",
        "outputId": "8107f765-1cd0-4a50-9b9f-cca76e0ee706"
      },
      "source": [
        "df.drop(['Suburb', 'SellerG'], axis = 1, inplace = True)"
      ],
      "execution_count": null,
      "outputs": [
        {
          "output_type": "stream",
          "text": [
            "/usr/local/lib/python3.7/dist-packages/pandas/core/frame.py:4174: SettingWithCopyWarning: \n",
            "A value is trying to be set on a copy of a slice from a DataFrame\n",
            "\n",
            "See the caveats in the documentation: https://pandas.pydata.org/pandas-docs/stable/user_guide/indexing.html#returning-a-view-versus-a-copy\n",
            "  errors=errors,\n"
          ],
          "name": "stderr"
        }
      ]
    },
    {
      "cell_type": "code",
      "metadata": {
        "colab": {
          "base_uri": "https://localhost:8080/"
        },
        "id": "WJvYxQ9iGNc1",
        "outputId": "d0b91ff6-de37-4388-c8b6-21d7fcc6069d"
      },
      "source": [
        "df.info()"
      ],
      "execution_count": null,
      "outputs": [
        {
          "output_type": "stream",
          "text": [
            "<class 'pandas.core.frame.DataFrame'>\n",
            "Int64Index: 18396 entries, 1 to 23546\n",
            "Data columns (total 12 columns):\n",
            " #   Column         Non-Null Count  Dtype  \n",
            "---  ------         --------------  -----  \n",
            " 0   Rooms          18396 non-null  int64  \n",
            " 1   Type           18396 non-null  object \n",
            " 2   Price          18396 non-null  float64\n",
            " 3   Method         18396 non-null  object \n",
            " 4   Date           18396 non-null  object \n",
            " 5   Distance       18396 non-null  float64\n",
            " 6   Bedroom2       18396 non-null  float64\n",
            " 7   Bathroom       18396 non-null  float64\n",
            " 8   Car            18396 non-null  float64\n",
            " 9   Landsize       18396 non-null  float64\n",
            " 10  Regionname     18395 non-null  object \n",
            " 11  Propertycount  18396 non-null  float64\n",
            "dtypes: float64(7), int64(1), object(4)\n",
            "memory usage: 2.4+ MB\n"
          ],
          "name": "stdout"
        }
      ]
    },
    {
      "cell_type": "code",
      "metadata": {
        "colab": {
          "base_uri": "https://localhost:8080/"
        },
        "id": "vJFD2IeJGeVg",
        "outputId": "1dd4343f-5f82-4a0e-cf63-82a07ba9b212"
      },
      "source": [
        "df['Date'].str[3:].value_counts().sort_index(ascending = True)"
      ],
      "execution_count": null,
      "outputs": [
        {
          "output_type": "execute_result",
          "data": {
            "text/plain": [
              "01-2016       2\n",
              "02-2016      35\n",
              "02-2017     526\n",
              "03-2017     841\n",
              "04-2016     401\n",
              "04-2017     805\n",
              "05-2016    1167\n",
              "05-2017    1453\n",
              "06-2016     962\n",
              "06-2017    1463\n",
              "07-2016     553\n",
              "07-2017    1806\n",
              "08-2016     911\n",
              "08-2017    1413\n",
              "09-2016    1166\n",
              "09-2017    2035\n",
              "10-2016     677\n",
              "11-2016    1413\n",
              "12-2016     767\n",
              "Name: Date, dtype: int64"
            ]
          },
          "metadata": {
            "tags": []
          },
          "execution_count": 58
        }
      ]
    },
    {
      "cell_type": "code",
      "metadata": {
        "id": "0Bo-mykXF0oe"
      },
      "source": [
        "%%bigquery df\n",
        "\n",
        "select Rooms\n",
        "   , case when Type = 'h' then 1 else 0 end as Type_h\n",
        "   , case when Type = 'u' then 1 else 0 end as Type_u\n",
        "   , case when Type = 't' then 1 else 0 end as Type_t\n",
        "   , case when Method = 'S' then 1 else 0 end as Method_S\n",
        "   , case when Method = 'SP' then 1 else 0 end as Method_SP\n",
        "   , case when Method = 'PI' then 1 else 0 end as Method_PI\n",
        "   , case when Method = 'VB' then 1 else 0 end as Method_VB\n",
        "   , case when Method = 'SA' then 1 else 0 end as Method_SA\n",
        "   , COALESCE(Distance, avg(Distance)) as Distance\n",
        "   , COALESCE(Bedroom2, avg(Bedroom2)) as Bedroom2\n",
        "   , COALESCE(Bathroom, avg(Bathroom)) as Bathroom\n",
        "   , COALESCE(Car, avg(Car)) as Car\n",
        "   , COALESCE(Landsize, avg(Landsize)) as Landsize\n",
        "   , COALESCE(Propertycount, avg(Propertycount)) as Propertycount\n",
        "   , case when Regionname = 'Southern Metropolitan' then 1 else 0 end as Regionname_SM\n",
        "   , case when Regionname = 'Northern Metropolitan' then 1 else 0 end as Regionname_NM\n",
        "   , case when Regionname = 'Western Metropolitan' then 1 else 0 end as Regionname_WM\n",
        "   , case when Regionname = 'Eastern Metropolitan' then 1 else 0 end as Regionname_EM\n",
        "   , case when Regionname = 'South-Eastern Metropolitan' then 1 else 0 end as Regionname_SEM\n",
        "   , case when Regionname = 'Eastern Victoria' then 1 else 0 end as Regionname_EV\n",
        "   , case when Regionname = 'Northern Victoria' then 1 else 0 end as Regionname_NV\n",
        "   , case when Regionname = 'Western Victoria' then 1 else 0 end as Regionname_WV\n",
        "   , case when substring(Date, 4, 10) = '01-2016' then 1 else 0 end as Date_01_2016\n",
        "   , case when substring(Date, 4, 10) = '02-2016' then 1 else 0 end as Date_02_2016\n",
        "   , case when substring(Date, 4, 10) = '04-2016' then 1 else 0 end as Date_04_2016\n",
        "   , case when substring(Date, 4, 10) = '05-2016' then 1 else 0 end as Date_05_2016\n",
        "   , case when substring(Date, 4, 10) = '06-2016' then 1 else 0 end as Date_06_2016\n",
        "   , case when substring(Date, 4, 10) = '07-2016' then 1 else 0 end as Date_07_2016\n",
        "   , case when substring(Date, 4, 10) = '08-2016' then 1 else 0 end as Date_08_2016\n",
        "   , case when substring(Date, 4, 10) = '09-2016' then 1 else 0 end as Date_09_2016\n",
        "   , case when substring(Date, 4, 10) = '10-2016' then 1 else 0 end as Date_10_2016\n",
        "   , case when substring(Date, 4, 10) = '11-2016' then 1 else 0 end as Date_11_2016\n",
        "   , case when substring(Date, 4, 10) = '12-2016' then 1 else 0 end as Date_12_2016\n",
        "   , case when substring(Date, 4, 10) = '02-2017' then 1 else 0 end as Date_02_2017\n",
        "   , case when substring(Date, 4, 10) = '04-2017' then 1 else 0 end as Date_03_2017\n",
        "   , case when substring(Date, 4, 10) = '04-2017' then 1 else 0 end as Date_04_2017\n",
        "   , case when substring(Date, 4, 10) = '05-2017' then 1 else 0 end as Date_05_2017\n",
        "   , case when substring(Date, 4, 10) = '06-2017' then 1 else 0 end as Date_06_2017\n",
        "   , case when substring(Date, 4, 10) = '07-2017' then 1 else 0 end as Date_07_2017\n",
        "   , case when substring(Date, 4, 10) = '08-2017' then 1 else 0 end as Date_08_2017\n",
        "   , case when substring(Date, 4, 10) = '09-2017' then 1 else 0 end as Date_09_2017\n",
        "   , Price\n",
        "from table\n",
        "where Price is not null\n",
        "  and \n"
      ],
      "execution_count": null,
      "outputs": []
    }
  ]
}